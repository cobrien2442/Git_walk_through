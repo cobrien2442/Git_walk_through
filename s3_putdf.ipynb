{
 "cells": [
  {
   "cell_type": "code",
   "execution_count": null,
   "id": "f549193f",
   "metadata": {},
   "outputs": [],
   "source": [
    "import boto3\n",
    "import requests\n",
    "import os\n",
    "import pandas as pd\n",
    "\n",
    "def put_data(Key_id, Secret_key, file):\n",
    "\n",
    "    BUCKET_NAME = \"gtown-wildfire-ds\"\n",
    "    OBJECT_KEY = file\n",
    "    \n",
    "    client = boto3.client(\n",
    "        's3',\n",
    "        aws_access_key_id= Key_id,\n",
    "        aws_secret_access_key= Secret_key)\n",
    "    \n",
    "    upload_file_bucket = BUCKET_NAME\n",
    "    upload_file_key = OBJECT_KEY\n",
    "    client.upload_file(file, upload_file_bucket, upload_file_key)\n"
   ]
  },
  {
   "cell_type": "code",
   "execution_count": null,
   "id": "3c7643d8",
   "metadata": {},
   "outputs": [],
   "source": [
    "put_data()\n",
    "\n",
    "\n",
    "#example inputs $put_data('...HEH','...iH37','usprice_cust.csv')\n",
    "\n",
    "#this code will not return anything, it only inputs data into S3 bucket"
   ]
  }
 ],
 "metadata": {
  "kernelspec": {
   "display_name": "Python 3 (ipykernel)",
   "language": "python",
   "name": "python3"
  },
  "language_info": {
   "codemirror_mode": {
    "name": "ipython",
    "version": 3
   },
   "file_extension": ".py",
   "mimetype": "text/x-python",
   "name": "python",
   "nbconvert_exporter": "python",
   "pygments_lexer": "ipython3",
   "version": "3.9.7"
  }
 },
 "nbformat": 4,
 "nbformat_minor": 5
}
